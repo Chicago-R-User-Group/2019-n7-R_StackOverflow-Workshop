{
 "cells": [
  {
   "cell_type": "markdown",
   "metadata": {},
   "source": [
    "# <span style=\"color:#222426\">R + StackOverflow Workshop</span>\n",
    "<div style=\"float:right\"><img src=\"r_so_workshop.png\" width=\"200px\" /></div>\n",
    "\n",
    "## <span style=\"color:#f48024\">CRUG Meetup, August 20, 2019</span>\n",
    "\n",
    "#### Instructions\n",
    "1. Download the three StackOverflow query data sets (Posts, Users, Tags) as included below in seach section.\n",
    "2. Work with each other to answer guided questions in cells or add your own interesting insights using any `library` and analytical method.\n",
    "3. When completed, rename notebook and generate an HTML version in Jupyter or by command line: `jupyter nbconvert --to html \"My_Group_Workshop_py.ipynb\"`.\n",
    "4. Using Git, push completed .ipynb or HTML notebooks to \"Group_Submissions\" of CRUG repo: **[2019-n7-R_StackOverflow-Workshop](https://github.com/Chicago-R-User-Group/2019-n6-useR-2019-bRew-and-View)**.\n",
    "5. Volunteer to briefly present analyses and findings to full audience."
   ]
  },
  {
   "cell_type": "markdown",
   "metadata": {},
   "source": [
    "---\n",
    "\n",
    "# <span style=\"color:#f48024\">Posts</span>\n",
    "\n",
    "### <span style=\"color:#222426\">R Q/A Posts</span>\n",
    "\n",
    "#### <span style=\"color:#222426\">Data Explorer:</span> https://data.stackexchange.com/stackoverflow/query/1068739/r-answered-posts-since-2015\n",
    "\n",
    "---\n",
    "### Google BigQuery - StackOverflow Dataset\n",
    "https://cloud.google.com/blog/products/gcp/google-bigquery-public-datasets-now-include-stack-overflow-q-a\n",
    "\n",
    "#### SQL Query\n",
    "\n",
    "<pre>\n",
    "SELECT p.id, p.creation_date, p.score,\n",
    "       p.view_count, p.owner_user_id, p.Title,\n",
    "       p.tags, p.answer_count,\n",
    "       CONCAT('https://stackoverflow.com/questions/', \n",
    "              CAST(p.id AS STRING)) As url\n",
    "                       \n",
    "FROM `bigquery-public-data.stackoverflow.posts_questions` p\n",
    "\n",
    "WHERE p.tags LIKE 'r'\n",
    "ORDER BY p.score DESC\n",
    "</pre>"
   ]
  },
  {
   "cell_type": "code",
   "execution_count": 1,
   "metadata": {},
   "outputs": [],
   "source": [
    "g_url <- 'https://drive.google.com/uc?export=download&id=17ITsjBM8w2krLaOSyeThUpiCWPDTgJ2E'\n",
    "#download.file(g_url, \"StackOverflow_R_Posts.csv\")"
   ]
  },
  {
   "cell_type": "code",
   "execution_count": 2,
   "metadata": {},
   "outputs": [
    {
     "data": {
      "text/html": [
       "<table>\n",
       "<caption>A data.frame: 10 × 9</caption>\n",
       "<thead>\n",
       "\t<tr><th scope=col>id</th><th scope=col>creation_date</th><th scope=col>score</th><th scope=col>view_count</th><th scope=col>owner_user_id</th><th scope=col>Title</th><th scope=col>tags</th><th scope=col>answer_count</th><th scope=col>url</th></tr>\n",
       "\t<tr><th scope=col>&lt;int&gt;</th><th scope=col>&lt;fct&gt;</th><th scope=col>&lt;int&gt;</th><th scope=col>&lt;int&gt;</th><th scope=col>&lt;int&gt;</th><th scope=col>&lt;fct&gt;</th><th scope=col>&lt;fct&gt;</th><th scope=col>&lt;int&gt;</th><th scope=col>&lt;fct&gt;</th></tr>\n",
       "</thead>\n",
       "<tbody>\n",
       "\t<tr><td> 5963269</td><td>2011-05-11 11:12:02.357 UTC</td><td>2476</td><td> 254547</td><td> 602276</td><td><span style=white-space:pre-wrap>How to make a great R reproducible example                                    </span></td><td><span style=white-space:pre-wrap>&lt;r&gt;&lt;r-faq&gt;                                 </span></td><td>23</td><td>https://stackoverflow.com/questions/5963269 </td></tr>\n",
       "\t<tr><td> 1296646</td><td>2009-08-18 21:33:18.473 UTC</td><td>1221</td><td>1132383</td><td><span style=white-space:pre-wrap>  84458</span></td><td><span style=white-space:pre-wrap>How to sort a dataframe by multiple column(s)                                 </span></td><td><span style=white-space:pre-wrap>&lt;r&gt;&lt;sorting&gt;&lt;dataframe&gt;&lt;r-faq&gt;             </span></td><td>19</td><td>https://stackoverflow.com/questions/1296646 </td></tr>\n",
       "\t<tr><td> 1299871</td><td>2009-08-19 13:18:11.25 UTC </td><td>1078</td><td> 980229</td><td><span style=white-space:pre-wrap>  23929</span></td><td><span style=white-space:pre-wrap>How to join (merge) data frames (inner, outer, left, right)                   </span></td><td><span style=white-space:pre-wrap>&lt;r&gt;&lt;join&gt;&lt;merge&gt;&lt;dataframe&gt;&lt;r-faq&gt;         </span></td><td>13</td><td>https://stackoverflow.com/questions/1299871 </td></tr>\n",
       "\t<tr><td> 3505701</td><td>2010-08-17 18:31:12.913 UTC</td><td> 976</td><td> 375153</td><td> 231588</td><td><span style=white-space:pre-wrap>Grouping functions (tapply, by, aggregate) and the *apply family              </span></td><td><span style=white-space:pre-wrap>&lt;r&gt;&lt;lapply&gt;&lt;sapply&gt;&lt;tapply&gt;&lt;r-faq&gt;         </span></td><td> 9</td><td>https://stackoverflow.com/questions/3505701 </td></tr>\n",
       "\t<tr><td> 4605206</td><td>2011-01-05 14:34:29.173 UTC</td><td> 761</td><td>1218512</td><td> 155406</td><td><span style=white-space:pre-wrap>Drop data frame columns by name                                               </span></td><td><span style=white-space:pre-wrap>&lt;r&gt;&lt;dataframe&gt;&lt;r-faq&gt;                      </span></td><td>19</td><td>https://stackoverflow.com/questions/4605206 </td></tr>\n",
       "\t<tr><td> 4862178</td><td>2011-02-01 11:52:31.15 UTC </td><td> 751</td><td>1268174</td><td> 525563</td><td><span style=white-space:pre-wrap>Remove rows with all or some NAs (missing values) in data.frame               </span></td><td>&lt;r&gt;&lt;dataframe&gt;&lt;filter&gt;&lt;missing-data&gt;&lt;r-faq&gt;</td><td>16</td><td>https://stackoverflow.com/questions/4862178 </td></tr>\n",
       "\t<tr><td>21435339</td><td>2014-01-29 15:21:45.347 UTC</td><td> 668</td><td> 101643</td><td>2725969</td><td>data.table vs dplyr: can one do something well the other can't or does poorly?</td><td><span style=white-space:pre-wrap>&lt;r&gt;&lt;data.table&gt;&lt;dplyr&gt;                     </span></td><td> 3</td><td>https://stackoverflow.com/questions/21435339</td></tr>\n",
       "\t<tr><td>12675147</td><td>2012-10-01 14:22:51.34 UTC </td><td> 660</td><td><span style=white-space:pre-wrap>  73567</span></td><td> 190352</td><td><span style=white-space:pre-wrap>How can we make xkcd style graphs?                                            </span></td><td><span style=white-space:pre-wrap>&lt;r&gt;&lt;ggplot2&gt;                               </span></td><td> 7</td><td>https://stackoverflow.com/questions/12675147</td></tr>\n",
       "\t<tr><td> 1741820</td><td>2009-11-16 12:14:51.313 UTC</td><td> 622</td><td> 164816</td><td> 203420</td><td><span style=white-space:pre-wrap>What are the differences between \"=\" and \"&lt;-\" in R?                           </span></td><td><span style=white-space:pre-wrap>&lt;r&gt;&lt;assignment-operator&gt;&lt;r-faq&gt;            </span></td><td> 7</td><td>https://stackoverflow.com/questions/1741820 </td></tr>\n",
       "\t<tr><td> 8161836</td><td>2011-11-17 03:45:44.92 UTC </td><td> 607</td><td> 973347</td><td> 734984</td><td><span style=white-space:pre-wrap>How do I replace NA values with zeros in an R dataframe?                      </span></td><td><span style=white-space:pre-wrap>&lt;r&gt;&lt;dataframe&gt;&lt;na&gt;                         </span></td><td>16</td><td>https://stackoverflow.com/questions/8161836 </td></tr>\n",
       "</tbody>\n",
       "</table>\n"
      ],
      "text/latex": [
       "A data.frame: 10 × 9\n",
       "\\begin{tabular}{r|lllllllll}\n",
       " id & creation\\_date & score & view\\_count & owner\\_user\\_id & Title & tags & answer\\_count & url\\\\\n",
       " <int> & <fct> & <int> & <int> & <int> & <fct> & <fct> & <int> & <fct>\\\\\n",
       "\\hline\n",
       "\t  5963269 & 2011-05-11 11:12:02.357 UTC & 2476 &  254547 &  602276 & How to make a great R reproducible example                                     & <r><r-faq>                                  & 23 & https://stackoverflow.com/questions/5963269 \\\\\n",
       "\t  1296646 & 2009-08-18 21:33:18.473 UTC & 1221 & 1132383 &   84458 & How to sort a dataframe by multiple column(s)                                  & <r><sorting><dataframe><r-faq>              & 19 & https://stackoverflow.com/questions/1296646 \\\\\n",
       "\t  1299871 & 2009-08-19 13:18:11.25 UTC  & 1078 &  980229 &   23929 & How to join (merge) data frames (inner, outer, left, right)                    & <r><join><merge><dataframe><r-faq>          & 13 & https://stackoverflow.com/questions/1299871 \\\\\n",
       "\t  3505701 & 2010-08-17 18:31:12.913 UTC &  976 &  375153 &  231588 & Grouping functions (tapply, by, aggregate) and the *apply family               & <r><lapply><sapply><tapply><r-faq>          &  9 & https://stackoverflow.com/questions/3505701 \\\\\n",
       "\t  4605206 & 2011-01-05 14:34:29.173 UTC &  761 & 1218512 &  155406 & Drop data frame columns by name                                                & <r><dataframe><r-faq>                       & 19 & https://stackoverflow.com/questions/4605206 \\\\\n",
       "\t  4862178 & 2011-02-01 11:52:31.15 UTC  &  751 & 1268174 &  525563 & Remove rows with all or some NAs (missing values) in data.frame                & <r><dataframe><filter><missing-data><r-faq> & 16 & https://stackoverflow.com/questions/4862178 \\\\\n",
       "\t 21435339 & 2014-01-29 15:21:45.347 UTC &  668 &  101643 & 2725969 & data.table vs dplyr: can one do something well the other can't or does poorly? & <r><data.table><dplyr>                      &  3 & https://stackoverflow.com/questions/21435339\\\\\n",
       "\t 12675147 & 2012-10-01 14:22:51.34 UTC  &  660 &   73567 &  190352 & How can we make xkcd style graphs?                                             & <r><ggplot2>                                &  7 & https://stackoverflow.com/questions/12675147\\\\\n",
       "\t  1741820 & 2009-11-16 12:14:51.313 UTC &  622 &  164816 &  203420 & What are the differences between \"=\" and \"<-\" in R?                            & <r><assignment-operator><r-faq>             &  7 & https://stackoverflow.com/questions/1741820 \\\\\n",
       "\t  8161836 & 2011-11-17 03:45:44.92 UTC  &  607 &  973347 &  734984 & How do I replace NA values with zeros in an R dataframe?                       & <r><dataframe><na>                          & 16 & https://stackoverflow.com/questions/8161836 \\\\\n",
       "\\end{tabular}\n"
      ],
      "text/markdown": [
       "\n",
       "A data.frame: 10 × 9\n",
       "\n",
       "| id &lt;int&gt; | creation_date &lt;fct&gt; | score &lt;int&gt; | view_count &lt;int&gt; | owner_user_id &lt;int&gt; | Title &lt;fct&gt; | tags &lt;fct&gt; | answer_count &lt;int&gt; | url &lt;fct&gt; |\n",
       "|---|---|---|---|---|---|---|---|---|\n",
       "|  5963269 | 2011-05-11 11:12:02.357 UTC | 2476 |  254547 |  602276 | How to make a great R reproducible example                                     | &lt;r&gt;&lt;r-faq&gt;                                  | 23 | https://stackoverflow.com/questions/5963269  |\n",
       "|  1296646 | 2009-08-18 21:33:18.473 UTC | 1221 | 1132383 |   84458 | How to sort a dataframe by multiple column(s)                                  | &lt;r&gt;&lt;sorting&gt;&lt;dataframe&gt;&lt;r-faq&gt;              | 19 | https://stackoverflow.com/questions/1296646  |\n",
       "|  1299871 | 2009-08-19 13:18:11.25 UTC  | 1078 |  980229 |   23929 | How to join (merge) data frames (inner, outer, left, right)                    | &lt;r&gt;&lt;join&gt;&lt;merge&gt;&lt;dataframe&gt;&lt;r-faq&gt;          | 13 | https://stackoverflow.com/questions/1299871  |\n",
       "|  3505701 | 2010-08-17 18:31:12.913 UTC |  976 |  375153 |  231588 | Grouping functions (tapply, by, aggregate) and the *apply family               | &lt;r&gt;&lt;lapply&gt;&lt;sapply&gt;&lt;tapply&gt;&lt;r-faq&gt;          |  9 | https://stackoverflow.com/questions/3505701  |\n",
       "|  4605206 | 2011-01-05 14:34:29.173 UTC |  761 | 1218512 |  155406 | Drop data frame columns by name                                                | &lt;r&gt;&lt;dataframe&gt;&lt;r-faq&gt;                       | 19 | https://stackoverflow.com/questions/4605206  |\n",
       "|  4862178 | 2011-02-01 11:52:31.15 UTC  |  751 | 1268174 |  525563 | Remove rows with all or some NAs (missing values) in data.frame                | &lt;r&gt;&lt;dataframe&gt;&lt;filter&gt;&lt;missing-data&gt;&lt;r-faq&gt; | 16 | https://stackoverflow.com/questions/4862178  |\n",
       "| 21435339 | 2014-01-29 15:21:45.347 UTC |  668 |  101643 | 2725969 | data.table vs dplyr: can one do something well the other can't or does poorly? | &lt;r&gt;&lt;data.table&gt;&lt;dplyr&gt;                      |  3 | https://stackoverflow.com/questions/21435339 |\n",
       "| 12675147 | 2012-10-01 14:22:51.34 UTC  |  660 |   73567 |  190352 | How can we make xkcd style graphs?                                             | &lt;r&gt;&lt;ggplot2&gt;                                |  7 | https://stackoverflow.com/questions/12675147 |\n",
       "|  1741820 | 2009-11-16 12:14:51.313 UTC |  622 |  164816 |  203420 | What are the differences between \"=\" and \"&lt;-\" in R?                            | &lt;r&gt;&lt;assignment-operator&gt;&lt;r-faq&gt;             |  7 | https://stackoverflow.com/questions/1741820  |\n",
       "|  8161836 | 2011-11-17 03:45:44.92 UTC  |  607 |  973347 |  734984 | How do I replace NA values with zeros in an R dataframe?                       | &lt;r&gt;&lt;dataframe&gt;&lt;na&gt;                          | 16 | https://stackoverflow.com/questions/8161836  |\n",
       "\n"
      ],
      "text/plain": [
       "   id       creation_date               score view_count owner_user_id\n",
       "1   5963269 2011-05-11 11:12:02.357 UTC 2476   254547     602276      \n",
       "2   1296646 2009-08-18 21:33:18.473 UTC 1221  1132383      84458      \n",
       "3   1299871 2009-08-19 13:18:11.25 UTC  1078   980229      23929      \n",
       "4   3505701 2010-08-17 18:31:12.913 UTC  976   375153     231588      \n",
       "5   4605206 2011-01-05 14:34:29.173 UTC  761  1218512     155406      \n",
       "6   4862178 2011-02-01 11:52:31.15 UTC   751  1268174     525563      \n",
       "7  21435339 2014-01-29 15:21:45.347 UTC  668   101643    2725969      \n",
       "8  12675147 2012-10-01 14:22:51.34 UTC   660    73567     190352      \n",
       "9   1741820 2009-11-16 12:14:51.313 UTC  622   164816     203420      \n",
       "10  8161836 2011-11-17 03:45:44.92 UTC   607   973347     734984      \n",
       "   Title                                                                         \n",
       "1  How to make a great R reproducible example                                    \n",
       "2  How to sort a dataframe by multiple column(s)                                 \n",
       "3  How to join (merge) data frames (inner, outer, left, right)                   \n",
       "4  Grouping functions (tapply, by, aggregate) and the *apply family              \n",
       "5  Drop data frame columns by name                                               \n",
       "6  Remove rows with all or some NAs (missing values) in data.frame               \n",
       "7  data.table vs dplyr: can one do something well the other can't or does poorly?\n",
       "8  How can we make xkcd style graphs?                                            \n",
       "9  What are the differences between \"=\" and \"<-\" in R?                           \n",
       "10 How do I replace NA values with zeros in an R dataframe?                      \n",
       "   tags                                        answer_count\n",
       "1  <r><r-faq>                                  23          \n",
       "2  <r><sorting><dataframe><r-faq>              19          \n",
       "3  <r><join><merge><dataframe><r-faq>          13          \n",
       "4  <r><lapply><sapply><tapply><r-faq>           9          \n",
       "5  <r><dataframe><r-faq>                       19          \n",
       "6  <r><dataframe><filter><missing-data><r-faq> 16          \n",
       "7  <r><data.table><dplyr>                       3          \n",
       "8  <r><ggplot2>                                 7          \n",
       "9  <r><assignment-operator><r-faq>              7          \n",
       "10 <r><dataframe><na>                          16          \n",
       "   url                                         \n",
       "1  https://stackoverflow.com/questions/5963269 \n",
       "2  https://stackoverflow.com/questions/1296646 \n",
       "3  https://stackoverflow.com/questions/1299871 \n",
       "4  https://stackoverflow.com/questions/3505701 \n",
       "5  https://stackoverflow.com/questions/4605206 \n",
       "6  https://stackoverflow.com/questions/4862178 \n",
       "7  https://stackoverflow.com/questions/21435339\n",
       "8  https://stackoverflow.com/questions/12675147\n",
       "9  https://stackoverflow.com/questions/1741820 \n",
       "10 https://stackoverflow.com/questions/8161836 "
      ]
     },
     "metadata": {},
     "output_type": "display_data"
    }
   ],
   "source": [
    "posts_df <- read.csv(\"StackOverflow_R_Posts.csv\")\n",
    "head(posts_df, 10)"
   ]
  },
  {
   "cell_type": "markdown",
   "metadata": {},
   "source": [
    "## <span style=\"color:#165CAA\">Analyze, Graph, Test the Data!</span>"
   ]
  },
  {
   "cell_type": "markdown",
   "metadata": {},
   "source": [
    "### How do the aggregates (min, max, mean, median, sd) of scores, views, upvotes trend over time?"
   ]
  },
  {
   "cell_type": "code",
   "execution_count": null,
   "metadata": {},
   "outputs": [],
   "source": []
  },
  {
   "cell_type": "markdown",
   "metadata": {},
   "source": [
    "### Do views trend or correlate positively or negatively with question scores and/or answer count?"
   ]
  },
  {
   "cell_type": "code",
   "execution_count": null,
   "metadata": {},
   "outputs": [],
   "source": []
  },
  {
   "cell_type": "markdown",
   "metadata": {},
   "source": [
    "### How many unique askers have there been over time? Do askers ask multiple times across time or in short periods?"
   ]
  },
  {
   "cell_type": "code",
   "execution_count": null,
   "metadata": {},
   "outputs": [],
   "source": []
  },
  {
   "cell_type": "markdown",
   "metadata": {},
   "source": [
    "---\n",
    "\n",
    "\n",
    "# <span style=\"color:#f48024\">Users</span>\n",
    "\n",
    "### <span style = \"color:#222426\">R Gold, Silver, Bronze Badgeholders</span>\n",
    "\n",
    "### <span style=\"color:#222426\">Data Explorer:</span> https://data.stackexchange.com/stackoverflow/query/1068746\n"
   ]
  },
  {
   "cell_type": "code",
   "execution_count": 3,
   "metadata": {},
   "outputs": [],
   "source": [
    "#download.file(\"https://data.stackexchange.com/stackoverflow/csv/1320628\", \"StackOverflow_R_Users.csv\")"
   ]
  },
  {
   "cell_type": "code",
   "execution_count": 4,
   "metadata": {},
   "outputs": [
    {
     "data": {
      "text/html": [
       "<table>\n",
       "<caption>A data.frame: 10 × 12</caption>\n",
       "<thead>\n",
       "\t<tr><th scope=col>Id</th><th scope=col>DisplayName</th><th scope=col>Reputation</th><th scope=col>Url</th><th scope=col>CreationDate</th><th scope=col>Location</th><th scope=col>Views</th><th scope=col>UpVotes</th><th scope=col>Downvotes</th><th scope=col>BadgeName</th><th scope=col>BadgeDate</th><th scope=col>X</th></tr>\n",
       "\t<tr><th scope=col>&lt;int&gt;</th><th scope=col>&lt;fct&gt;</th><th scope=col>&lt;int&gt;</th><th scope=col>&lt;fct&gt;</th><th scope=col>&lt;fct&gt;</th><th scope=col>&lt;fct&gt;</th><th scope=col>&lt;int&gt;</th><th scope=col>&lt;int&gt;</th><th scope=col>&lt;int&gt;</th><th scope=col>&lt;fct&gt;</th><th scope=col>&lt;fct&gt;</th><th scope=col>&lt;fct&gt;</th></tr>\n",
       "</thead>\n",
       "<tbody>\n",
       "\t<tr><td> 190597</td><td>unutbu         </td><td>585439</td><td>https://stackoverflow.com/users/190597 </td><td>2009-10-15 12:48:20</td><td>                         </td><td>34222</td><td>17139</td><td>  626</td><td>r</td><td>2015-06-24 09:57:22</td><td>bronze</td></tr>\n",
       "\t<tr><td> 505088</td><td>David Heffernan</td><td>532356</td><td>https://stackoverflow.com/users/505088 </td><td>2009-08-25 18:52:23</td><td>Ulverston, United Kingdom</td><td>81996</td><td>14061</td><td>23945</td><td>r</td><td>2014-08-13 03:05:43</td><td>bronze</td></tr>\n",
       "\t<tr><td>3732271</td><td>akrun          </td><td>457160</td><td>https://stackoverflow.com/users/3732271</td><td>2014-06-12 01:21:33</td><td>                         </td><td>60262</td><td>29018</td><td>    0</td><td>r</td><td>2014-10-20 03:06:24</td><td>gold  </td></tr>\n",
       "\t<tr><td>3732271</td><td>akrun          </td><td>457160</td><td>https://stackoverflow.com/users/3732271</td><td>2014-06-12 01:21:33</td><td>                         </td><td>60262</td><td>29018</td><td>    0</td><td>r</td><td>2014-08-05 03:06:14</td><td>silver</td></tr>\n",
       "\t<tr><td>3732271</td><td>akrun          </td><td>457160</td><td>https://stackoverflow.com/users/3732271</td><td>2014-06-12 01:21:33</td><td>                         </td><td>60262</td><td>29018</td><td>    0</td><td>r</td><td>2014-07-01 03:14:35</td><td>bronze</td></tr>\n",
       "\t<tr><td>   1968</td><td>Konrad Rudolph </td><td>414904</td><td>https://stackoverflow.com/users/1968   </td><td>2008-08-19 15:59:21</td><td>Cambridge, United Kingdom</td><td>61557</td><td>15294</td><td> 1083</td><td>r</td><td>2016-09-13 14:46:05</td><td>gold  </td></tr>\n",
       "\t<tr><td>   1968</td><td>Konrad Rudolph </td><td>414904</td><td>https://stackoverflow.com/users/1968   </td><td>2008-08-19 15:59:21</td><td>Cambridge, United Kingdom</td><td>61557</td><td>15294</td><td> 1083</td><td>r</td><td>2015-02-13 03:08:27</td><td>silver</td></tr>\n",
       "\t<tr><td>   1968</td><td>Konrad Rudolph </td><td>414904</td><td>https://stackoverflow.com/users/1968   </td><td>2008-08-19 15:59:21</td><td>Cambridge, United Kingdom</td><td>61557</td><td>15294</td><td> 1083</td><td>r</td><td>2013-10-18 03:04:14</td><td>bronze</td></tr>\n",
       "\t<tr><td> 367273</td><td>NPE            </td><td>371516</td><td>https://stackoverflow.com/users/367273 </td><td>2010-06-15 12:55:43</td><td>London, United Kingdom   </td><td>22533</td><td> 4078</td><td>  676</td><td>r</td><td>2013-12-12 03:12:13</td><td>silver</td></tr>\n",
       "\t<tr><td> 367273</td><td>NPE            </td><td>371516</td><td>https://stackoverflow.com/users/367273 </td><td>2010-06-15 12:55:43</td><td>London, United Kingdom   </td><td>22533</td><td> 4078</td><td>  676</td><td>r</td><td>2011-09-20 03:01:46</td><td>bronze</td></tr>\n",
       "</tbody>\n",
       "</table>\n"
      ],
      "text/latex": [
       "A data.frame: 10 × 12\n",
       "\\begin{tabular}{r|llllllllllll}\n",
       " Id & DisplayName & Reputation & Url & CreationDate & Location & Views & UpVotes & Downvotes & BadgeName & BadgeDate & X\\\\\n",
       " <int> & <fct> & <int> & <fct> & <fct> & <fct> & <int> & <int> & <int> & <fct> & <fct> & <fct>\\\\\n",
       "\\hline\n",
       "\t  190597 & unutbu          & 585439 & https://stackoverflow.com/users/190597  & 2009-10-15 12:48:20 &                           & 34222 & 17139 &   626 & r & 2015-06-24 09:57:22 & bronze\\\\\n",
       "\t  505088 & David Heffernan & 532356 & https://stackoverflow.com/users/505088  & 2009-08-25 18:52:23 & Ulverston, United Kingdom & 81996 & 14061 & 23945 & r & 2014-08-13 03:05:43 & bronze\\\\\n",
       "\t 3732271 & akrun           & 457160 & https://stackoverflow.com/users/3732271 & 2014-06-12 01:21:33 &                           & 60262 & 29018 &     0 & r & 2014-10-20 03:06:24 & gold  \\\\\n",
       "\t 3732271 & akrun           & 457160 & https://stackoverflow.com/users/3732271 & 2014-06-12 01:21:33 &                           & 60262 & 29018 &     0 & r & 2014-08-05 03:06:14 & silver\\\\\n",
       "\t 3732271 & akrun           & 457160 & https://stackoverflow.com/users/3732271 & 2014-06-12 01:21:33 &                           & 60262 & 29018 &     0 & r & 2014-07-01 03:14:35 & bronze\\\\\n",
       "\t    1968 & Konrad Rudolph  & 414904 & https://stackoverflow.com/users/1968    & 2008-08-19 15:59:21 & Cambridge, United Kingdom & 61557 & 15294 &  1083 & r & 2016-09-13 14:46:05 & gold  \\\\\n",
       "\t    1968 & Konrad Rudolph  & 414904 & https://stackoverflow.com/users/1968    & 2008-08-19 15:59:21 & Cambridge, United Kingdom & 61557 & 15294 &  1083 & r & 2015-02-13 03:08:27 & silver\\\\\n",
       "\t    1968 & Konrad Rudolph  & 414904 & https://stackoverflow.com/users/1968    & 2008-08-19 15:59:21 & Cambridge, United Kingdom & 61557 & 15294 &  1083 & r & 2013-10-18 03:04:14 & bronze\\\\\n",
       "\t  367273 & NPE             & 371516 & https://stackoverflow.com/users/367273  & 2010-06-15 12:55:43 & London, United Kingdom    & 22533 &  4078 &   676 & r & 2013-12-12 03:12:13 & silver\\\\\n",
       "\t  367273 & NPE             & 371516 & https://stackoverflow.com/users/367273  & 2010-06-15 12:55:43 & London, United Kingdom    & 22533 &  4078 &   676 & r & 2011-09-20 03:01:46 & bronze\\\\\n",
       "\\end{tabular}\n"
      ],
      "text/markdown": [
       "\n",
       "A data.frame: 10 × 12\n",
       "\n",
       "| Id &lt;int&gt; | DisplayName &lt;fct&gt; | Reputation &lt;int&gt; | Url &lt;fct&gt; | CreationDate &lt;fct&gt; | Location &lt;fct&gt; | Views &lt;int&gt; | UpVotes &lt;int&gt; | Downvotes &lt;int&gt; | BadgeName &lt;fct&gt; | BadgeDate &lt;fct&gt; | X &lt;fct&gt; |\n",
       "|---|---|---|---|---|---|---|---|---|---|---|---|\n",
       "|  190597 | unutbu          | 585439 | https://stackoverflow.com/users/190597  | 2009-10-15 12:48:20 | <!----> | 34222 | 17139 |   626 | r | 2015-06-24 09:57:22 | bronze |\n",
       "|  505088 | David Heffernan | 532356 | https://stackoverflow.com/users/505088  | 2009-08-25 18:52:23 | Ulverston, United Kingdom | 81996 | 14061 | 23945 | r | 2014-08-13 03:05:43 | bronze |\n",
       "| 3732271 | akrun           | 457160 | https://stackoverflow.com/users/3732271 | 2014-06-12 01:21:33 | <!----> | 60262 | 29018 |     0 | r | 2014-10-20 03:06:24 | gold   |\n",
       "| 3732271 | akrun           | 457160 | https://stackoverflow.com/users/3732271 | 2014-06-12 01:21:33 | <!----> | 60262 | 29018 |     0 | r | 2014-08-05 03:06:14 | silver |\n",
       "| 3732271 | akrun           | 457160 | https://stackoverflow.com/users/3732271 | 2014-06-12 01:21:33 | <!----> | 60262 | 29018 |     0 | r | 2014-07-01 03:14:35 | bronze |\n",
       "|    1968 | Konrad Rudolph  | 414904 | https://stackoverflow.com/users/1968    | 2008-08-19 15:59:21 | Cambridge, United Kingdom | 61557 | 15294 |  1083 | r | 2016-09-13 14:46:05 | gold   |\n",
       "|    1968 | Konrad Rudolph  | 414904 | https://stackoverflow.com/users/1968    | 2008-08-19 15:59:21 | Cambridge, United Kingdom | 61557 | 15294 |  1083 | r | 2015-02-13 03:08:27 | silver |\n",
       "|    1968 | Konrad Rudolph  | 414904 | https://stackoverflow.com/users/1968    | 2008-08-19 15:59:21 | Cambridge, United Kingdom | 61557 | 15294 |  1083 | r | 2013-10-18 03:04:14 | bronze |\n",
       "|  367273 | NPE             | 371516 | https://stackoverflow.com/users/367273  | 2010-06-15 12:55:43 | London, United Kingdom    | 22533 |  4078 |   676 | r | 2013-12-12 03:12:13 | silver |\n",
       "|  367273 | NPE             | 371516 | https://stackoverflow.com/users/367273  | 2010-06-15 12:55:43 | London, United Kingdom    | 22533 |  4078 |   676 | r | 2011-09-20 03:01:46 | bronze |\n",
       "\n"
      ],
      "text/plain": [
       "   Id      DisplayName     Reputation Url                                    \n",
       "1   190597 unutbu          585439     https://stackoverflow.com/users/190597 \n",
       "2   505088 David Heffernan 532356     https://stackoverflow.com/users/505088 \n",
       "3  3732271 akrun           457160     https://stackoverflow.com/users/3732271\n",
       "4  3732271 akrun           457160     https://stackoverflow.com/users/3732271\n",
       "5  3732271 akrun           457160     https://stackoverflow.com/users/3732271\n",
       "6     1968 Konrad Rudolph  414904     https://stackoverflow.com/users/1968   \n",
       "7     1968 Konrad Rudolph  414904     https://stackoverflow.com/users/1968   \n",
       "8     1968 Konrad Rudolph  414904     https://stackoverflow.com/users/1968   \n",
       "9   367273 NPE             371516     https://stackoverflow.com/users/367273 \n",
       "10  367273 NPE             371516     https://stackoverflow.com/users/367273 \n",
       "   CreationDate        Location                  Views UpVotes Downvotes\n",
       "1  2009-10-15 12:48:20                           34222 17139     626    \n",
       "2  2009-08-25 18:52:23 Ulverston, United Kingdom 81996 14061   23945    \n",
       "3  2014-06-12 01:21:33                           60262 29018       0    \n",
       "4  2014-06-12 01:21:33                           60262 29018       0    \n",
       "5  2014-06-12 01:21:33                           60262 29018       0    \n",
       "6  2008-08-19 15:59:21 Cambridge, United Kingdom 61557 15294    1083    \n",
       "7  2008-08-19 15:59:21 Cambridge, United Kingdom 61557 15294    1083    \n",
       "8  2008-08-19 15:59:21 Cambridge, United Kingdom 61557 15294    1083    \n",
       "9  2010-06-15 12:55:43 London, United Kingdom    22533  4078     676    \n",
       "10 2010-06-15 12:55:43 London, United Kingdom    22533  4078     676    \n",
       "   BadgeName BadgeDate           X     \n",
       "1  r         2015-06-24 09:57:22 bronze\n",
       "2  r         2014-08-13 03:05:43 bronze\n",
       "3  r         2014-10-20 03:06:24 gold  \n",
       "4  r         2014-08-05 03:06:14 silver\n",
       "5  r         2014-07-01 03:14:35 bronze\n",
       "6  r         2016-09-13 14:46:05 gold  \n",
       "7  r         2015-02-13 03:08:27 silver\n",
       "8  r         2013-10-18 03:04:14 bronze\n",
       "9  r         2013-12-12 03:12:13 silver\n",
       "10 r         2011-09-20 03:01:46 bronze"
      ]
     },
     "metadata": {},
     "output_type": "display_data"
    }
   ],
   "source": [
    "users_df <- read.csv(\"StackOverflow_R_Users.csv\")\n",
    "head(users_df, 10)"
   ]
  },
  {
   "cell_type": "markdown",
   "metadata": {},
   "source": [
    "## <span style=\"color:#165CAA\">Analyze, Graph, Test the Data!</span>"
   ]
  },
  {
   "cell_type": "markdown",
   "metadata": {},
   "source": [
    "### How long does it take high rep users to win R bronze, silver, badges over time?"
   ]
  },
  {
   "cell_type": "code",
   "execution_count": null,
   "metadata": {},
   "outputs": [],
   "source": []
  },
  {
   "cell_type": "markdown",
   "metadata": {},
   "source": [
    "### Do reputation correlate with upvotes and downvotes?"
   ]
  },
  {
   "cell_type": "code",
   "execution_count": null,
   "metadata": {},
   "outputs": [],
   "source": []
  },
  {
   "cell_type": "markdown",
   "metadata": {},
   "source": [
    "### What continents or countries maintain most R badge holders?"
   ]
  },
  {
   "cell_type": "code",
   "execution_count": null,
   "metadata": {},
   "outputs": [],
   "source": []
  },
  {
   "cell_type": "markdown",
   "metadata": {},
   "source": [
    "---\n",
    "\n",
    "# <span style=\"color:#f48024\">Tags</span>\n",
    "\n",
    "### <span style=\"color:#222426\">R and Other Question Tags</span>\n",
    "### <span style=\"color:#222426\">Data Explorer:</span> https://data.stackexchange.com/stackoverflow/query/1068751/r-and-other-question-tags\n"
   ]
  },
  {
   "cell_type": "code",
   "execution_count": 5,
   "metadata": {},
   "outputs": [],
   "source": [
    "#download.file(\"https://data.stackexchange.com/stackoverflow/csv/1320660\", \"StackOverflow_R_Tags.csv\")"
   ]
  },
  {
   "cell_type": "code",
   "execution_count": 6,
   "metadata": {},
   "outputs": [
    {
     "data": {
      "text/html": [
       "<table>\n",
       "<caption>A data.frame: 10 × 6</caption>\n",
       "<thead>\n",
       "\t<tr><th scope=col>TagName</th><th scope=col>TagYear</th><th scope=col>TagCount</th><th scope=col>MaxScore</th><th scope=col>MaxViewCount</th><th scope=col>MaxAnswerCount</th></tr>\n",
       "\t<tr><th scope=col>&lt;fct&gt;</th><th scope=col>&lt;int&gt;</th><th scope=col>&lt;int&gt;</th><th scope=col>&lt;int&gt;</th><th scope=col>&lt;int&gt;</th><th scope=col>&lt;int&gt;</th></tr>\n",
       "</thead>\n",
       "<tbody>\n",
       "\t<tr><td>dplyr     </td><td>2019</td><td>1844</td><td>17</td><td>3383</td><td>8</td></tr>\n",
       "\t<tr><td>ggplot2   </td><td>2019</td><td>1836</td><td>39</td><td>2825</td><td>5</td></tr>\n",
       "\t<tr><td>dataframe </td><td>2019</td><td>1352</td><td>14</td><td>1543</td><td>6</td></tr>\n",
       "\t<tr><td>shiny     </td><td>2019</td><td> 933</td><td>20</td><td>3130</td><td>4</td></tr>\n",
       "\t<tr><td>data.table</td><td>2019</td><td> 594</td><td>15</td><td> 565</td><td>6</td></tr>\n",
       "\t<tr><td>tidyverse </td><td>2019</td><td> 456</td><td>19</td><td> 891</td><td>6</td></tr>\n",
       "\t<tr><td>loops     </td><td>2019</td><td> 373</td><td>13</td><td> 355</td><td>6</td></tr>\n",
       "\t<tr><td>list      </td><td>2019</td><td> 360</td><td>10</td><td> 441</td><td>7</td></tr>\n",
       "\t<tr><td>function  </td><td>2019</td><td> 352</td><td>17</td><td> 332</td><td>4</td></tr>\n",
       "\t<tr><td>plot      </td><td>2019</td><td> 345</td><td> 9</td><td>2380</td><td>4</td></tr>\n",
       "</tbody>\n",
       "</table>\n"
      ],
      "text/latex": [
       "A data.frame: 10 × 6\n",
       "\\begin{tabular}{r|llllll}\n",
       " TagName & TagYear & TagCount & MaxScore & MaxViewCount & MaxAnswerCount\\\\\n",
       " <fct> & <int> & <int> & <int> & <int> & <int>\\\\\n",
       "\\hline\n",
       "\t dplyr      & 2019 & 1844 & 17 & 3383 & 8\\\\\n",
       "\t ggplot2    & 2019 & 1836 & 39 & 2825 & 5\\\\\n",
       "\t dataframe  & 2019 & 1352 & 14 & 1543 & 6\\\\\n",
       "\t shiny      & 2019 &  933 & 20 & 3130 & 4\\\\\n",
       "\t data.table & 2019 &  594 & 15 &  565 & 6\\\\\n",
       "\t tidyverse  & 2019 &  456 & 19 &  891 & 6\\\\\n",
       "\t loops      & 2019 &  373 & 13 &  355 & 6\\\\\n",
       "\t list       & 2019 &  360 & 10 &  441 & 7\\\\\n",
       "\t function   & 2019 &  352 & 17 &  332 & 4\\\\\n",
       "\t plot       & 2019 &  345 &  9 & 2380 & 4\\\\\n",
       "\\end{tabular}\n"
      ],
      "text/markdown": [
       "\n",
       "A data.frame: 10 × 6\n",
       "\n",
       "| TagName &lt;fct&gt; | TagYear &lt;int&gt; | TagCount &lt;int&gt; | MaxScore &lt;int&gt; | MaxViewCount &lt;int&gt; | MaxAnswerCount &lt;int&gt; |\n",
       "|---|---|---|---|---|---|\n",
       "| dplyr      | 2019 | 1844 | 17 | 3383 | 8 |\n",
       "| ggplot2    | 2019 | 1836 | 39 | 2825 | 5 |\n",
       "| dataframe  | 2019 | 1352 | 14 | 1543 | 6 |\n",
       "| shiny      | 2019 |  933 | 20 | 3130 | 4 |\n",
       "| data.table | 2019 |  594 | 15 |  565 | 6 |\n",
       "| tidyverse  | 2019 |  456 | 19 |  891 | 6 |\n",
       "| loops      | 2019 |  373 | 13 |  355 | 6 |\n",
       "| list       | 2019 |  360 | 10 |  441 | 7 |\n",
       "| function   | 2019 |  352 | 17 |  332 | 4 |\n",
       "| plot       | 2019 |  345 |  9 | 2380 | 4 |\n",
       "\n"
      ],
      "text/plain": [
       "   TagName    TagYear TagCount MaxScore MaxViewCount MaxAnswerCount\n",
       "1  dplyr      2019    1844     17       3383         8             \n",
       "2  ggplot2    2019    1836     39       2825         5             \n",
       "3  dataframe  2019    1352     14       1543         6             \n",
       "4  shiny      2019     933     20       3130         4             \n",
       "5  data.table 2019     594     15        565         6             \n",
       "6  tidyverse  2019     456     19        891         6             \n",
       "7  loops      2019     373     13        355         6             \n",
       "8  list       2019     360     10        441         7             \n",
       "9  function   2019     352     17        332         4             \n",
       "10 plot       2019     345      9       2380         4             "
      ]
     },
     "metadata": {},
     "output_type": "display_data"
    }
   ],
   "source": [
    "tags_df <- read.csv(\"StackOverflow_R_Tags.csv\")\n",
    "head(tags_df, 10)"
   ]
  },
  {
   "cell_type": "markdown",
   "metadata": {},
   "source": [
    "## <span style=\"color:#165CAA\">Analyze, Graph, Test the Data!</span>"
   ]
  },
  {
   "cell_type": "markdown",
   "metadata": {},
   "source": [
    "### What are the top tags that appear along the main R tag?"
   ]
  },
  {
   "cell_type": "code",
   "execution_count": null,
   "metadata": {},
   "outputs": [],
   "source": []
  },
  {
   "cell_type": "markdown",
   "metadata": {},
   "source": [
    "### What are the trends of tag counts, score, views, answers over time?"
   ]
  },
  {
   "cell_type": "code",
   "execution_count": null,
   "metadata": {},
   "outputs": [],
   "source": []
  },
  {
   "cell_type": "markdown",
   "metadata": {},
   "source": [
    "### How do the popular framework, dplyr or data.table, trend with each other?"
   ]
  },
  {
   "cell_type": "code",
   "execution_count": null,
   "metadata": {},
   "outputs": [],
   "source": []
  },
  {
   "cell_type": "markdown",
   "metadata": {},
   "source": [
    "<br/>"
   ]
  }
 ],
 "metadata": {
  "kernelspec": {
   "display_name": "R",
   "language": "R",
   "name": "ir"
  },
  "language_info": {
   "codemirror_mode": "r",
   "file_extension": ".r",
   "mimetype": "text/x-r-source",
   "name": "R",
   "pygments_lexer": "r",
   "version": "3.6.1"
  }
 },
 "nbformat": 4,
 "nbformat_minor": 2
}
